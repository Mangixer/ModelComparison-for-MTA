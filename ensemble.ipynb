{
  "nbformat": 4,
  "nbformat_minor": 0,
  "metadata": {
    "colab": {
      "name": "ансамбль.ipynb",
      "provenance": [],
      "collapsed_sections": []
    },
    "kernelspec": {
      "name": "python3",
      "display_name": "Python 3"
    },
    "language_info": {
      "name": "python"
    }
  },
  "cells": [
    {
      "cell_type": "code",
      "metadata": {
        "id": "6KHUk7voqExp"
      },
      "source": [
        "\n",
        "import numpy as np\n",
        "import pandas as pd\n",
        "\n",
        "from sklearn.ensemble import RandomForestClassifier, GradientBoostingClassifier\n",
        "import lightgbm\n",
        "import xgboost\n",
        "from sklearn import svm\n",
        "from sklearn.model_selection import train_test_split\n",
        "from sklearn.metrics import roc_auc_score\n",
        "\n",
        "import matplotlib.pyplot as plt"
      ],
      "execution_count": null,
      "outputs": []
    },
    {
      "cell_type": "code",
      "metadata": {
        "colab": {
          "base_uri": "https://localhost:8080/",
          "height": 414
        },
        "id": "ZoTkqT8SqZ1z",
        "outputId": "4a451d3d-d24b-4d8d-9f95-cd638097c34d"
      },
      "source": [
        "df_train = pd.read_csv('/content/traingbm1.csv')\n",
        "df_train"
      ],
      "execution_count": null,
      "outputs": [
        {
          "output_type": "execute_result",
          "data": {
            "text/html": [
              "<div>\n",
              "<style scoped>\n",
              "    .dataframe tbody tr th:only-of-type {\n",
              "        vertical-align: middle;\n",
              "    }\n",
              "\n",
              "    .dataframe tbody tr th {\n",
              "        vertical-align: top;\n",
              "    }\n",
              "\n",
              "    .dataframe thead th {\n",
              "        text-align: right;\n",
              "    }\n",
              "</style>\n",
              "<table border=\"1\" class=\"dataframe\">\n",
              "  <thead>\n",
              "    <tr style=\"text-align: right;\">\n",
              "      <th></th>\n",
              "      <th>ID</th>\n",
              "      <th>date</th>\n",
              "      <th>visitNumber</th>\n",
              "      <th>Channel</th>\n",
              "      <th>Conversion</th>\n",
              "    </tr>\n",
              "  </thead>\n",
              "  <tbody>\n",
              "    <tr>\n",
              "      <th>0</th>\n",
              "      <td>0</td>\n",
              "      <td>20170502</td>\n",
              "      <td>1</td>\n",
              "      <td>6</td>\n",
              "      <td>1</td>\n",
              "    </tr>\n",
              "    <tr>\n",
              "      <th>1</th>\n",
              "      <td>1</td>\n",
              "      <td>20170502</td>\n",
              "      <td>4</td>\n",
              "      <td>6</td>\n",
              "      <td>0</td>\n",
              "    </tr>\n",
              "    <tr>\n",
              "      <th>2</th>\n",
              "      <td>2</td>\n",
              "      <td>20170502</td>\n",
              "      <td>3</td>\n",
              "      <td>6</td>\n",
              "      <td>0</td>\n",
              "    </tr>\n",
              "    <tr>\n",
              "      <th>3</th>\n",
              "      <td>3</td>\n",
              "      <td>20170502</td>\n",
              "      <td>6</td>\n",
              "      <td>6</td>\n",
              "      <td>0</td>\n",
              "    </tr>\n",
              "    <tr>\n",
              "      <th>4</th>\n",
              "      <td>4</td>\n",
              "      <td>20170502</td>\n",
              "      <td>4</td>\n",
              "      <td>6</td>\n",
              "      <td>0</td>\n",
              "    </tr>\n",
              "    <tr>\n",
              "      <th>...</th>\n",
              "      <td>...</td>\n",
              "      <td>...</td>\n",
              "      <td>...</td>\n",
              "      <td>...</td>\n",
              "      <td>...</td>\n",
              "    </tr>\n",
              "    <tr>\n",
              "      <th>63074</th>\n",
              "      <td>63074</td>\n",
              "      <td>20170519</td>\n",
              "      <td>1</td>\n",
              "      <td>1</td>\n",
              "      <td>0</td>\n",
              "    </tr>\n",
              "    <tr>\n",
              "      <th>63075</th>\n",
              "      <td>63075</td>\n",
              "      <td>20170519</td>\n",
              "      <td>1</td>\n",
              "      <td>1</td>\n",
              "      <td>0</td>\n",
              "    </tr>\n",
              "    <tr>\n",
              "      <th>63076</th>\n",
              "      <td>63076</td>\n",
              "      <td>20170519</td>\n",
              "      <td>1</td>\n",
              "      <td>1</td>\n",
              "      <td>0</td>\n",
              "    </tr>\n",
              "    <tr>\n",
              "      <th>63077</th>\n",
              "      <td>63077</td>\n",
              "      <td>20170519</td>\n",
              "      <td>1</td>\n",
              "      <td>1</td>\n",
              "      <td>0</td>\n",
              "    </tr>\n",
              "    <tr>\n",
              "      <th>63078</th>\n",
              "      <td>63078</td>\n",
              "      <td>20170519</td>\n",
              "      <td>1</td>\n",
              "      <td>1</td>\n",
              "      <td>0</td>\n",
              "    </tr>\n",
              "  </tbody>\n",
              "</table>\n",
              "<p>63079 rows × 5 columns</p>\n",
              "</div>"
            ],
            "text/plain": [
              "          ID      date  visitNumber  Channel  Conversion\n",
              "0          0  20170502            1        6           1\n",
              "1          1  20170502            4        6           0\n",
              "2          2  20170502            3        6           0\n",
              "3          3  20170502            6        6           0\n",
              "4          4  20170502            4        6           0\n",
              "...      ...       ...          ...      ...         ...\n",
              "63074  63074  20170519            1        1           0\n",
              "63075  63075  20170519            1        1           0\n",
              "63076  63076  20170519            1        1           0\n",
              "63077  63077  20170519            1        1           0\n",
              "63078  63078  20170519            1        1           0\n",
              "\n",
              "[63079 rows x 5 columns]"
            ]
          },
          "metadata": {},
          "execution_count": 2
        }
      ]
    },
    {
      "cell_type": "code",
      "metadata": {
        "colab": {
          "base_uri": "https://localhost:8080/"
        },
        "id": "qV2VoOi7qhzq",
        "outputId": "8e9c9ea2-b006-492b-d0fc-73e71b2ecf1c"
      },
      "source": [
        "var_columns = [c for c in df_train.columns if c not in ['ID','Conversion']]\n",
        "\n",
        "X = df_train.loc[:, var_columns]\n",
        "y = df_train.loc[:, 'Conversion']\n",
        "\n",
        "X_train, X_valid, y_train, y_valid = train_test_split(X, y, test_size=0.2)\n",
        "X_train.shape, X_valid.shape, y_train.shape, y_valid.shape"
      ],
      "execution_count": null,
      "outputs": [
        {
          "output_type": "execute_result",
          "data": {
            "text/plain": [
              "((50463, 3), (12616, 3), (50463,), (12616,))"
            ]
          },
          "metadata": {},
          "execution_count": 3
        }
      ]
    },
    {
      "cell_type": "markdown",
      "metadata": {
        "id": "d0ZVsZxdqsvj"
      },
      "source": [
        "**Random Forest**"
      ]
    },
    {
      "cell_type": "code",
      "metadata": {
        "id": "WYWF_VmjvNyP"
      },
      "source": [
        "import time\n",
        "import sys\n",
        "from functools import wraps\n",
        "\n",
        "\n",
        "def show_time(func):\n",
        "    \"\"\"\n",
        "    timer decorator\n",
        "    \"\"\"\n",
        "\n",
        "    @wraps(func)\n",
        "    def wrapper(*args, **kwargs):\n",
        "\n",
        "        t0 = time.time()\n",
        "\n",
        "        print(f'running {func.__name__}.. ', end='')\n",
        "        sys.stdout.flush()\n",
        "\n",
        "        v = func(*args, **kwargs)\n",
        "\n",
        "        m, s = divmod(time.time() - t0, 60)\n",
        "\n",
        "        st = 'elapsed time:'\n",
        "\n",
        "        if m:\n",
        "            st += ' ' + f'{m:.0f} min'\n",
        "        if s:\n",
        "            st += ' ' + f'{s:.3f} sec'\n",
        "\n",
        "        print(st)\n",
        "\n",
        "        return v\n",
        "\n",
        "    return wrapper\n"
      ],
      "execution_count": null,
      "outputs": []
    },
    {
      "cell_type": "code",
      "metadata": {
        "colab": {
          "base_uri": "https://localhost:8080/"
        },
        "id": "zPxh6PN9qpMK",
        "outputId": "7fcc53c9-c1a7-45ab-e0ca-312c08b1db80"
      },
      "source": [
        "@show_time\n",
        "def mod_rf():\n",
        "  model_rf = RandomForestClassifier(class_weight='balanced',\n",
        "                                  criterion='gini',\n",
        "                                  max_depth=55,\n",
        "                                  max_features='log2',\n",
        "                                  min_samples_leaf=0.005,\n",
        "                                  min_samples_split=0.005,\n",
        "                                  n_estimators=190)\n",
        "\n",
        "  model_rf.fit(X_train, y_train)\n",
        "  return model_rf\n",
        "\n",
        "model_rf = mod_rf()"
      ],
      "execution_count": null,
      "outputs": [
        {
          "output_type": "stream",
          "name": "stdout",
          "text": [
            "running mod_rf.. elapsed time: 2.538 sec\n"
          ]
        }
      ]
    },
    {
      "cell_type": "markdown",
      "metadata": {
        "id": "-2QQMdRYq3vi"
      },
      "source": [
        "**GBM**"
      ]
    },
    {
      "cell_type": "code",
      "metadata": {
        "colab": {
          "base_uri": "https://localhost:8080/"
        },
        "id": "DD_Udln0q3Gf",
        "outputId": "a3601478-40e0-4fa7-d542-1bcee1cf0a0b"
      },
      "source": [
        "@show_time\n",
        "def mod_gbm():\n",
        "  model_gbm = GradientBoostingClassifier(n_estimators=5000,\n",
        "                                        learning_rate=0.05,\n",
        "                                        max_depth=3,\n",
        "                                        subsample=0.5,\n",
        "                                        validation_fraction=0.1,\n",
        "                                        n_iter_no_change=20,\n",
        "                                        max_features='log2',\n",
        "                                        verbose=1)\n",
        "  model_gbm.fit(X_train, y_train)\n",
        "  return model_gbm\n",
        "\n",
        "model_gbm = mod_gbm()"
      ],
      "execution_count": null,
      "outputs": [
        {
          "output_type": "stream",
          "name": "stdout",
          "text": [
            "running mod_gbm..       Iter       Train Loss      OOB Improve   Remaining Time \n",
            "         1           0.1688           0.0012            1.36m\n",
            "         2           0.1800           0.0011            1.44m\n",
            "         3           0.1728           0.0008            1.43m\n",
            "         4           0.1774           0.0007            1.43m\n",
            "         5           0.1668           0.0007            1.49m\n",
            "         6           0.1624           0.0007            1.56m\n",
            "         7           0.1728           0.0006            1.53m\n",
            "         8           0.1658           0.0006            1.51m\n",
            "         9           0.1671           0.0005            1.50m\n",
            "        10           0.1621           0.0003            1.55m\n",
            "        20           0.1619           0.0002            1.48m\n",
            "        30           0.1593           0.0001            1.44m\n",
            "        40           0.1644          -0.0000            1.43m\n",
            "        50           0.1638           0.0000            1.41m\n",
            "        60           0.1623           0.0000            1.40m\n",
            "        70           0.1534           0.0000            1.40m\n",
            "        80           0.1626          -0.0000            1.39m\n",
            "elapsed time: 1.512 sec\n"
          ]
        }
      ]
    },
    {
      "cell_type": "markdown",
      "metadata": {
        "id": "BOuDNbRgrBBn"
      },
      "source": [
        "**LightGBM**"
      ]
    },
    {
      "cell_type": "code",
      "metadata": {
        "colab": {
          "base_uri": "https://localhost:8080/"
        },
        "id": "yWWZV5xJrD14",
        "outputId": "fddaf457-71ee-475f-ffd5-dee6218ba4bf"
      },
      "source": [
        "@show_time\n",
        "def mod_lgbm():\n",
        "  lgbm_train_data = lightgbm.Dataset(X_train, label=y_train)\n",
        "  lgbm_valid_data = lightgbm.Dataset(X_valid, label=y_valid)\n",
        "\n",
        "  parameters = {'objective': 'binary',\n",
        "                'metric': 'auc',\n",
        "                'is_unbalance': 'true',\n",
        "                'boosting': 'gbdt',\n",
        "                'num_leaves': 63,\n",
        "                'feature_fraction': 0.5,\n",
        "                'bagging_fraction': 0.5,\n",
        "                'bagging_freq': 20,\n",
        "                'learning_rate': 0.01,\n",
        "                'verbose': 0\n",
        "              }\n",
        "\n",
        "  model_lgbm = lightgbm.train(parameters,\n",
        "                              lgbm_train_data,\n",
        "                              valid_sets=lgbm_valid_data,\n",
        "                              num_boost_round=5000,\n",
        "                              early_stopping_rounds=50)\n",
        "  return model_lgbm\n",
        "\n",
        "model_lgbm = mod_lgbm()"
      ],
      "execution_count": null,
      "outputs": [
        {
          "output_type": "stream",
          "name": "stdout",
          "text": [
            "running mod_lgbm.. [1]\tvalid_0's auc: 0.67904\n",
            "Training until validation scores don't improve for 50 rounds.\n",
            "[2]\tvalid_0's auc: 0.67904\n",
            "[3]\tvalid_0's auc: 0.715175\n",
            "[4]\tvalid_0's auc: 0.714724\n",
            "[5]\tvalid_0's auc: 0.735734\n",
            "[6]\tvalid_0's auc: 0.733767\n",
            "[7]\tvalid_0's auc: 0.732086\n",
            "[8]\tvalid_0's auc: 0.736614\n",
            "[9]\tvalid_0's auc: 0.734848\n",
            "[10]\tvalid_0's auc: 0.73398\n",
            "[11]\tvalid_0's auc: 0.731738\n",
            "[12]\tvalid_0's auc: 0.733529\n",
            "[13]\tvalid_0's auc: 0.733813\n",
            "[14]\tvalid_0's auc: 0.732846\n",
            "[15]\tvalid_0's auc: 0.73456\n",
            "[16]\tvalid_0's auc: 0.735023\n",
            "[17]\tvalid_0's auc: 0.734321\n",
            "[18]\tvalid_0's auc: 0.734724\n",
            "[19]\tvalid_0's auc: 0.734231\n",
            "[20]\tvalid_0's auc: 0.733632\n",
            "[21]\tvalid_0's auc: 0.733921\n",
            "[22]\tvalid_0's auc: 0.735003\n",
            "[23]\tvalid_0's auc: 0.73496\n",
            "[24]\tvalid_0's auc: 0.735739\n",
            "[25]\tvalid_0's auc: 0.736574\n",
            "[26]\tvalid_0's auc: 0.737037\n",
            "[27]\tvalid_0's auc: 0.738536\n",
            "[28]\tvalid_0's auc: 0.738906\n",
            "[29]\tvalid_0's auc: 0.739221\n",
            "[30]\tvalid_0's auc: 0.738929\n",
            "[31]\tvalid_0's auc: 0.739563\n",
            "[32]\tvalid_0's auc: 0.739862\n",
            "[33]\tvalid_0's auc: 0.739773\n",
            "[34]\tvalid_0's auc: 0.740387\n",
            "[35]\tvalid_0's auc: 0.740608\n",
            "[36]\tvalid_0's auc: 0.740544\n",
            "[37]\tvalid_0's auc: 0.740818\n",
            "[38]\tvalid_0's auc: 0.740388\n",
            "[39]\tvalid_0's auc: 0.7404\n",
            "[40]\tvalid_0's auc: 0.740449\n",
            "[41]\tvalid_0's auc: 0.740708\n",
            "[42]\tvalid_0's auc: 0.741178\n",
            "[43]\tvalid_0's auc: 0.741872\n",
            "[44]\tvalid_0's auc: 0.742385\n",
            "[45]\tvalid_0's auc: 0.743005\n",
            "[46]\tvalid_0's auc: 0.743332\n",
            "[47]\tvalid_0's auc: 0.743319\n",
            "[48]\tvalid_0's auc: 0.743788\n",
            "[49]\tvalid_0's auc: 0.744346\n",
            "[50]\tvalid_0's auc: 0.743832\n",
            "[51]\tvalid_0's auc: 0.743962\n",
            "[52]\tvalid_0's auc: 0.744163\n",
            "[53]\tvalid_0's auc: 0.74465\n",
            "[54]\tvalid_0's auc: 0.744912\n",
            "[55]\tvalid_0's auc: 0.745062\n",
            "[56]\tvalid_0's auc: 0.745118\n",
            "[57]\tvalid_0's auc: 0.744867\n",
            "[58]\tvalid_0's auc: 0.745081\n",
            "[59]\tvalid_0's auc: 0.745232\n",
            "[60]\tvalid_0's auc: 0.745592\n",
            "[61]\tvalid_0's auc: 0.745865\n",
            "[62]\tvalid_0's auc: 0.746076\n",
            "[63]\tvalid_0's auc: 0.746339\n",
            "[64]\tvalid_0's auc: 0.746304\n",
            "[65]\tvalid_0's auc: 0.746158\n",
            "[66]\tvalid_0's auc: 0.746477\n",
            "[67]\tvalid_0's auc: 0.746237\n",
            "[68]\tvalid_0's auc: 0.746325\n",
            "[69]\tvalid_0's auc: 0.746153\n",
            "[70]\tvalid_0's auc: 0.746142\n",
            "[71]\tvalid_0's auc: 0.746457\n",
            "[72]\tvalid_0's auc: 0.746149\n",
            "[73]\tvalid_0's auc: 0.746446\n",
            "[74]\tvalid_0's auc: 0.746003\n",
            "[75]\tvalid_0's auc: 0.746087\n",
            "[76]\tvalid_0's auc: 0.746106\n",
            "[77]\tvalid_0's auc: 0.746088\n",
            "[78]\tvalid_0's auc: 0.746262\n",
            "[79]\tvalid_0's auc: 0.746604\n",
            "[80]\tvalid_0's auc: 0.746259\n",
            "[81]\tvalid_0's auc: 0.746287\n",
            "[82]\tvalid_0's auc: 0.746337\n",
            "[83]\tvalid_0's auc: 0.746467\n",
            "[84]\tvalid_0's auc: 0.746752\n",
            "[85]\tvalid_0's auc: 0.746843\n",
            "[86]\tvalid_0's auc: 0.746999\n",
            "[87]\tvalid_0's auc: 0.746927\n",
            "[88]\tvalid_0's auc: 0.746141\n",
            "[89]\tvalid_0's auc: 0.746383\n",
            "[90]\tvalid_0's auc: 0.746281\n",
            "[91]\tvalid_0's auc: 0.745983\n",
            "[92]\tvalid_0's auc: 0.746041\n",
            "[93]\tvalid_0's auc: 0.746062\n",
            "[94]\tvalid_0's auc: 0.746257\n",
            "[95]\tvalid_0's auc: 0.746361\n",
            "[96]\tvalid_0's auc: 0.746479\n",
            "[97]\tvalid_0's auc: 0.74626\n",
            "[98]\tvalid_0's auc: 0.746231\n",
            "[99]\tvalid_0's auc: 0.746379\n",
            "[100]\tvalid_0's auc: 0.746386\n",
            "[101]\tvalid_0's auc: 0.746535\n",
            "[102]\tvalid_0's auc: 0.746511\n",
            "[103]\tvalid_0's auc: 0.746386\n",
            "[104]\tvalid_0's auc: 0.74636\n",
            "[105]\tvalid_0's auc: 0.746445\n",
            "[106]\tvalid_0's auc: 0.746439\n",
            "[107]\tvalid_0's auc: 0.74628\n",
            "[108]\tvalid_0's auc: 0.746263\n",
            "[109]\tvalid_0's auc: 0.746226\n",
            "[110]\tvalid_0's auc: 0.746111\n",
            "[111]\tvalid_0's auc: 0.745693\n",
            "[112]\tvalid_0's auc: 0.745858\n",
            "[113]\tvalid_0's auc: 0.745989\n",
            "[114]\tvalid_0's auc: 0.745916\n",
            "[115]\tvalid_0's auc: 0.746098\n",
            "[116]\tvalid_0's auc: 0.746132\n",
            "[117]\tvalid_0's auc: 0.746185\n",
            "[118]\tvalid_0's auc: 0.746483\n",
            "[119]\tvalid_0's auc: 0.746591\n",
            "[120]\tvalid_0's auc: 0.746592\n",
            "[121]\tvalid_0's auc: 0.746682\n",
            "[122]\tvalid_0's auc: 0.746674\n",
            "[123]\tvalid_0's auc: 0.746613\n",
            "[124]\tvalid_0's auc: 0.746793\n",
            "[125]\tvalid_0's auc: 0.746809\n",
            "[126]\tvalid_0's auc: 0.74657\n",
            "[127]\tvalid_0's auc: 0.746704\n",
            "[128]\tvalid_0's auc: 0.746803\n",
            "[129]\tvalid_0's auc: 0.746736\n",
            "[130]\tvalid_0's auc: 0.746631\n",
            "[131]\tvalid_0's auc: 0.746762\n",
            "[132]\tvalid_0's auc: 0.746757\n",
            "[133]\tvalid_0's auc: 0.746743\n",
            "[134]\tvalid_0's auc: 0.746764\n",
            "[135]\tvalid_0's auc: 0.746538\n",
            "[136]\tvalid_0's auc: 0.746599\n",
            "Early stopping, best iteration is:\n",
            "[86]\tvalid_0's auc: 0.746999\n",
            "elapsed time: 1.133 sec\n"
          ]
        }
      ]
    },
    {
      "cell_type": "markdown",
      "metadata": {
        "id": "lYg7B0szrLEa"
      },
      "source": [
        "**XGBoost**"
      ]
    },
    {
      "cell_type": "code",
      "metadata": {
        "colab": {
          "base_uri": "https://localhost:8080/"
        },
        "id": "sIZEcma_rSnV",
        "outputId": "422f71ce-01c0-44fe-a0b7-32d7cc3654bb"
      },
      "source": [
        "@show_time\n",
        "def mod_xgboost():\n",
        "  model_xgboost = xgboost.XGBClassifier(learning_rate=0.05,\n",
        "                                        max_depth=2,\n",
        "                                        n_estimators=5000,\n",
        "                                        subsample=0.5,\n",
        "                                        colsample_bytree=0.25,\n",
        "                                        eval_metric='auc',\n",
        "                                        verbosity=0,\n",
        "                                        use_label_encoder=False)\n",
        "\n",
        "  eval_set = [(X_valid, y_valid)]\n",
        "\n",
        "  model_xgboost.fit(X_train,\n",
        "                    y_train,\n",
        "                    early_stopping_rounds=20,\n",
        "                    eval_set=eval_set,\n",
        "                    verbose=False)\n",
        "  return model_xgboost\n",
        "\n",
        "model_xgboost = mod_xgboost()"
      ],
      "execution_count": null,
      "outputs": [
        {
          "output_type": "stream",
          "name": "stdout",
          "text": [
            "running mod_xgboost.. elapsed time: 1.250 sec\n"
          ]
        }
      ]
    },
    {
      "cell_type": "code",
      "metadata": {
        "id": "X3tLlakhraFo"
      },
      "source": [
        "y_train_pred_rf = model_rf.predict_proba(X_train)[:,1]\n",
        "y_train_pred_gbm = model_gbm.predict_proba(X_train)[:,1]\n",
        "y_train_pred_lgbm = model_lgbm.predict(X_train)\n",
        "y_train_pred_xgboost = model_xgboost.predict_proba(X_train)[:,1]\n",
        "\n",
        "y_valid_pred_rf = model_rf.predict_proba(X_valid)[:,1]\n",
        "y_valid_pred_gbm = model_gbm.predict_proba(X_valid)[:,1]\n",
        "y_valid_pred_lgbm = model_lgbm.predict(X_valid)\n",
        "y_valid_pred_xgboost = model_xgboost.predict_proba(X_valid)[:,1]\n",
        "\n",
        "y_train_pred_all = np.mean([y_train_pred_rf, y_train_pred_gbm, y_train_pred_lgbm, y_train_pred_xgboost], axis=0)\n",
        "y_valid_pred_all = np.mean([y_valid_pred_rf, y_valid_pred_gbm, y_valid_pred_lgbm, y_valid_pred_xgboost], axis=0)"
      ],
      "execution_count": null,
      "outputs": []
    },
    {
      "cell_type": "code",
      "metadata": {
        "colab": {
          "base_uri": "https://localhost:8080/",
          "height": 202
        },
        "id": "RnKhRv8Krdaf",
        "outputId": "f3d97cd6-a44c-4e80-880b-10be9cb8222b"
      },
      "source": [
        "train_auc_list = [roc_auc_score(y_train, y_train_pred_rf),\n",
        "                  roc_auc_score(y_train, y_train_pred_gbm),\n",
        "                  roc_auc_score(y_train, y_train_pred_lgbm),\n",
        "                  roc_auc_score(y_train, y_train_pred_xgboost),\n",
        "                  roc_auc_score(y_train, y_train_pred_all)]\n",
        "\n",
        "valid_auc_list = [roc_auc_score(y_valid, y_valid_pred_rf),\n",
        "                  roc_auc_score(y_valid, y_valid_pred_gbm),\n",
        "                  roc_auc_score(y_valid, y_valid_pred_lgbm),\n",
        "                  roc_auc_score(y_valid, y_valid_pred_xgboost),\n",
        "                  roc_auc_score(y_valid, y_valid_pred_all)]\n",
        "\n",
        "pd.DataFrame({\"Technique\": [\"Random Forest\", \"GBM\", \"LightGBM\", \"XGBoost\", \"All\"],\n",
        "              \"Train_AUC\": train_auc_list,\n",
        "              \"Valid_AUC\": valid_auc_list\n",
        "})"
      ],
      "execution_count": null,
      "outputs": [
        {
          "output_type": "execute_result",
          "data": {
            "text/html": [
              "<div>\n",
              "<style scoped>\n",
              "    .dataframe tbody tr th:only-of-type {\n",
              "        vertical-align: middle;\n",
              "    }\n",
              "\n",
              "    .dataframe tbody tr th {\n",
              "        vertical-align: top;\n",
              "    }\n",
              "\n",
              "    .dataframe thead th {\n",
              "        text-align: right;\n",
              "    }\n",
              "</style>\n",
              "<table border=\"1\" class=\"dataframe\">\n",
              "  <thead>\n",
              "    <tr style=\"text-align: right;\">\n",
              "      <th></th>\n",
              "      <th>Technique</th>\n",
              "      <th>Train_AUC</th>\n",
              "      <th>Valid_AUC</th>\n",
              "    </tr>\n",
              "  </thead>\n",
              "  <tbody>\n",
              "    <tr>\n",
              "      <th>0</th>\n",
              "      <td>Random Forest</td>\n",
              "      <td>0.755118</td>\n",
              "      <td>0.750259</td>\n",
              "    </tr>\n",
              "    <tr>\n",
              "      <th>1</th>\n",
              "      <td>GBM</td>\n",
              "      <td>0.749057</td>\n",
              "      <td>0.749828</td>\n",
              "    </tr>\n",
              "    <tr>\n",
              "      <th>2</th>\n",
              "      <td>LightGBM</td>\n",
              "      <td>0.745556</td>\n",
              "      <td>0.746999</td>\n",
              "    </tr>\n",
              "    <tr>\n",
              "      <th>3</th>\n",
              "      <td>XGBoost</td>\n",
              "      <td>0.730077</td>\n",
              "      <td>0.736472</td>\n",
              "    </tr>\n",
              "    <tr>\n",
              "      <th>4</th>\n",
              "      <td>All</td>\n",
              "      <td>0.757889</td>\n",
              "      <td>0.755560</td>\n",
              "    </tr>\n",
              "  </tbody>\n",
              "</table>\n",
              "</div>"
            ],
            "text/plain": [
              "       Technique  Train_AUC  Valid_AUC\n",
              "0  Random Forest   0.755118   0.750259\n",
              "1            GBM   0.749057   0.749828\n",
              "2       LightGBM   0.745556   0.746999\n",
              "3        XGBoost   0.730077   0.736472\n",
              "4            All   0.757889   0.755560"
            ]
          },
          "metadata": {},
          "execution_count": 10
        }
      ]
    },
    {
      "cell_type": "code",
      "metadata": {
        "colab": {
          "base_uri": "https://localhost:8080/"
        },
        "id": "ovG3L1Darl8P",
        "outputId": "039642f2-6b11-4882-fa23-9fa08848fccd"
      },
      "source": [
        "df_test = pd.read_csv('/content/testgbm1.csv')\n",
        "df_sample_submissions = pd.read_csv('/content/samplegbm.csv')\n",
        "df_test.shape, df_sample_submissions.shape"
      ],
      "execution_count": null,
      "outputs": [
        {
          "output_type": "execute_result",
          "data": {
            "text/plain": [
              "((63079, 4), (63079, 2))"
            ]
          },
          "metadata": {},
          "execution_count": 11
        }
      ]
    },
    {
      "cell_type": "code",
      "metadata": {
        "colab": {
          "base_uri": "https://localhost:8080/",
          "height": 414
        },
        "id": "qb0tstnXsXLz",
        "outputId": "11ad293f-9c6e-46f2-da00-8506c495fdc5"
      },
      "source": [
        "X_test = df_test.loc[:, var_columns]\n",
        "\n",
        "y_test_pred_rf = model_rf.predict_proba(X_test)[:,1]\n",
        "y_test_pred_gbm = model_gbm.predict_proba(X_test)[:,1]\n",
        "y_test_pred_lgbm = model_lgbm.predict(X_test)\n",
        "y_test_pred_xgboost = model_xgboost.predict_proba(X_test)[:,1]\n",
        "\n",
        "df_sample_submissions['Conversion'] = np.mean([y_test_pred_rf, y_test_pred_gbm, y_test_pred_lgbm, y_test_pred_xgboost], axis=0)\n",
        "df_sample_submissions"
      ],
      "execution_count": null,
      "outputs": [
        {
          "output_type": "execute_result",
          "data": {
            "text/html": [
              "<div>\n",
              "<style scoped>\n",
              "    .dataframe tbody tr th:only-of-type {\n",
              "        vertical-align: middle;\n",
              "    }\n",
              "\n",
              "    .dataframe tbody tr th {\n",
              "        vertical-align: top;\n",
              "    }\n",
              "\n",
              "    .dataframe thead th {\n",
              "        text-align: right;\n",
              "    }\n",
              "</style>\n",
              "<table border=\"1\" class=\"dataframe\">\n",
              "  <thead>\n",
              "    <tr style=\"text-align: right;\">\n",
              "      <th></th>\n",
              "      <th>ID</th>\n",
              "      <th>Conversion</th>\n",
              "    </tr>\n",
              "  </thead>\n",
              "  <tbody>\n",
              "    <tr>\n",
              "      <th>0</th>\n",
              "      <td>0</td>\n",
              "      <td>0.174227</td>\n",
              "    </tr>\n",
              "    <tr>\n",
              "      <th>1</th>\n",
              "      <td>1</td>\n",
              "      <td>0.273719</td>\n",
              "    </tr>\n",
              "    <tr>\n",
              "      <th>2</th>\n",
              "      <td>2</td>\n",
              "      <td>0.267278</td>\n",
              "    </tr>\n",
              "    <tr>\n",
              "      <th>3</th>\n",
              "      <td>3</td>\n",
              "      <td>0.277905</td>\n",
              "    </tr>\n",
              "    <tr>\n",
              "      <th>4</th>\n",
              "      <td>4</td>\n",
              "      <td>0.273719</td>\n",
              "    </tr>\n",
              "    <tr>\n",
              "      <th>...</th>\n",
              "      <td>...</td>\n",
              "      <td>...</td>\n",
              "    </tr>\n",
              "    <tr>\n",
              "      <th>63074</th>\n",
              "      <td>63074</td>\n",
              "      <td>0.117297</td>\n",
              "    </tr>\n",
              "    <tr>\n",
              "      <th>63075</th>\n",
              "      <td>63075</td>\n",
              "      <td>0.117297</td>\n",
              "    </tr>\n",
              "    <tr>\n",
              "      <th>63076</th>\n",
              "      <td>63076</td>\n",
              "      <td>0.117297</td>\n",
              "    </tr>\n",
              "    <tr>\n",
              "      <th>63077</th>\n",
              "      <td>63077</td>\n",
              "      <td>0.117297</td>\n",
              "    </tr>\n",
              "    <tr>\n",
              "      <th>63078</th>\n",
              "      <td>63078</td>\n",
              "      <td>0.117297</td>\n",
              "    </tr>\n",
              "  </tbody>\n",
              "</table>\n",
              "<p>63079 rows × 2 columns</p>\n",
              "</div>"
            ],
            "text/plain": [
              "          ID  Conversion\n",
              "0          0    0.174227\n",
              "1          1    0.273719\n",
              "2          2    0.267278\n",
              "3          3    0.277905\n",
              "4          4    0.273719\n",
              "...      ...         ...\n",
              "63074  63074    0.117297\n",
              "63075  63075    0.117297\n",
              "63076  63076    0.117297\n",
              "63077  63077    0.117297\n",
              "63078  63078    0.117297\n",
              "\n",
              "[63079 rows x 2 columns]"
            ]
          },
          "metadata": {},
          "execution_count": 12
        }
      ]
    },
    {
      "cell_type": "code",
      "metadata": {
        "id": "zHQYc1z8tVrR"
      },
      "source": [
        "import seaborn as sns\n",
        "import matplotlib.pyplot as plt\n",
        "import subprocess"
      ],
      "execution_count": null,
      "outputs": []
    },
    {
      "cell_type": "code",
      "metadata": {
        "colab": {
          "base_uri": "https://localhost:8080/",
          "height": 948
        },
        "id": "-PC1m6JTs5pz",
        "outputId": "eda51003-aa30-4c08-ff76-7e3b19c1561e"
      },
      "source": [
        "sns.set_style(\"whitegrid\")\n",
        "plt.rc('legend', fontsize=15)\n",
        "fig, ax = plt.subplots(figsize=(16, 10))\n",
        "sns.barplot(x='Channel', y='Conversion', data=df_sample_submissions)\n",
        "plt.show()"
      ],
      "execution_count": null,
      "outputs": [
        {
          "output_type": "error",
          "ename": "ValueError",
          "evalue": "ignored",
          "traceback": [
            "\u001b[0;31m---------------------------------------------------------------------------\u001b[0m",
            "\u001b[0;31mValueError\u001b[0m                                Traceback (most recent call last)",
            "\u001b[0;32m<ipython-input-14-12f6850b826f>\u001b[0m in \u001b[0;36m<module>\u001b[0;34m()\u001b[0m\n\u001b[1;32m      2\u001b[0m \u001b[0mplt\u001b[0m\u001b[0;34m.\u001b[0m\u001b[0mrc\u001b[0m\u001b[0;34m(\u001b[0m\u001b[0;34m'legend'\u001b[0m\u001b[0;34m,\u001b[0m \u001b[0mfontsize\u001b[0m\u001b[0;34m=\u001b[0m\u001b[0;36m15\u001b[0m\u001b[0;34m)\u001b[0m\u001b[0;34m\u001b[0m\u001b[0;34m\u001b[0m\u001b[0m\n\u001b[1;32m      3\u001b[0m \u001b[0mfig\u001b[0m\u001b[0;34m,\u001b[0m \u001b[0max\u001b[0m \u001b[0;34m=\u001b[0m \u001b[0mplt\u001b[0m\u001b[0;34m.\u001b[0m\u001b[0msubplots\u001b[0m\u001b[0;34m(\u001b[0m\u001b[0mfigsize\u001b[0m\u001b[0;34m=\u001b[0m\u001b[0;34m(\u001b[0m\u001b[0;36m16\u001b[0m\u001b[0;34m,\u001b[0m \u001b[0;36m10\u001b[0m\u001b[0;34m)\u001b[0m\u001b[0;34m)\u001b[0m\u001b[0;34m\u001b[0m\u001b[0;34m\u001b[0m\u001b[0m\n\u001b[0;32m----> 4\u001b[0;31m \u001b[0msns\u001b[0m\u001b[0;34m.\u001b[0m\u001b[0mbarplot\u001b[0m\u001b[0;34m(\u001b[0m\u001b[0mx\u001b[0m\u001b[0;34m=\u001b[0m\u001b[0;34m'Channel'\u001b[0m\u001b[0;34m,\u001b[0m \u001b[0my\u001b[0m\u001b[0;34m=\u001b[0m\u001b[0;34m'Conversion'\u001b[0m\u001b[0;34m,\u001b[0m \u001b[0mdata\u001b[0m\u001b[0;34m=\u001b[0m\u001b[0mdf_sample_submissions\u001b[0m\u001b[0;34m)\u001b[0m\u001b[0;34m\u001b[0m\u001b[0;34m\u001b[0m\u001b[0m\n\u001b[0m\u001b[1;32m      5\u001b[0m \u001b[0mplt\u001b[0m\u001b[0;34m.\u001b[0m\u001b[0mshow\u001b[0m\u001b[0;34m(\u001b[0m\u001b[0;34m)\u001b[0m\u001b[0;34m\u001b[0m\u001b[0;34m\u001b[0m\u001b[0m\n",
            "\u001b[0;32m/usr/local/lib/python3.7/dist-packages/seaborn/_decorators.py\u001b[0m in \u001b[0;36minner_f\u001b[0;34m(*args, **kwargs)\u001b[0m\n\u001b[1;32m     44\u001b[0m             )\n\u001b[1;32m     45\u001b[0m         \u001b[0mkwargs\u001b[0m\u001b[0;34m.\u001b[0m\u001b[0mupdate\u001b[0m\u001b[0;34m(\u001b[0m\u001b[0;34m{\u001b[0m\u001b[0mk\u001b[0m\u001b[0;34m:\u001b[0m \u001b[0marg\u001b[0m \u001b[0;32mfor\u001b[0m \u001b[0mk\u001b[0m\u001b[0;34m,\u001b[0m \u001b[0marg\u001b[0m \u001b[0;32min\u001b[0m \u001b[0mzip\u001b[0m\u001b[0;34m(\u001b[0m\u001b[0msig\u001b[0m\u001b[0;34m.\u001b[0m\u001b[0mparameters\u001b[0m\u001b[0;34m,\u001b[0m \u001b[0margs\u001b[0m\u001b[0;34m)\u001b[0m\u001b[0;34m}\u001b[0m\u001b[0;34m)\u001b[0m\u001b[0;34m\u001b[0m\u001b[0;34m\u001b[0m\u001b[0m\n\u001b[0;32m---> 46\u001b[0;31m         \u001b[0;32mreturn\u001b[0m \u001b[0mf\u001b[0m\u001b[0;34m(\u001b[0m\u001b[0;34m**\u001b[0m\u001b[0mkwargs\u001b[0m\u001b[0;34m)\u001b[0m\u001b[0;34m\u001b[0m\u001b[0;34m\u001b[0m\u001b[0m\n\u001b[0m\u001b[1;32m     47\u001b[0m     \u001b[0;32mreturn\u001b[0m \u001b[0minner_f\u001b[0m\u001b[0;34m\u001b[0m\u001b[0;34m\u001b[0m\u001b[0m\n\u001b[1;32m     48\u001b[0m \u001b[0;34m\u001b[0m\u001b[0m\n",
            "\u001b[0;32m/usr/local/lib/python3.7/dist-packages/seaborn/categorical.py\u001b[0m in \u001b[0;36mbarplot\u001b[0;34m(x, y, hue, data, order, hue_order, estimator, ci, n_boot, units, seed, orient, color, palette, saturation, errcolor, errwidth, capsize, dodge, ax, **kwargs)\u001b[0m\n\u001b[1;32m   3183\u001b[0m                           \u001b[0mestimator\u001b[0m\u001b[0;34m,\u001b[0m \u001b[0mci\u001b[0m\u001b[0;34m,\u001b[0m \u001b[0mn_boot\u001b[0m\u001b[0;34m,\u001b[0m \u001b[0munits\u001b[0m\u001b[0;34m,\u001b[0m \u001b[0mseed\u001b[0m\u001b[0;34m,\u001b[0m\u001b[0;34m\u001b[0m\u001b[0;34m\u001b[0m\u001b[0m\n\u001b[1;32m   3184\u001b[0m                           \u001b[0morient\u001b[0m\u001b[0;34m,\u001b[0m \u001b[0mcolor\u001b[0m\u001b[0;34m,\u001b[0m \u001b[0mpalette\u001b[0m\u001b[0;34m,\u001b[0m \u001b[0msaturation\u001b[0m\u001b[0;34m,\u001b[0m\u001b[0;34m\u001b[0m\u001b[0;34m\u001b[0m\u001b[0m\n\u001b[0;32m-> 3185\u001b[0;31m                           errcolor, errwidth, capsize, dodge)\n\u001b[0m\u001b[1;32m   3186\u001b[0m \u001b[0;34m\u001b[0m\u001b[0m\n\u001b[1;32m   3187\u001b[0m     \u001b[0;32mif\u001b[0m \u001b[0max\u001b[0m \u001b[0;32mis\u001b[0m \u001b[0;32mNone\u001b[0m\u001b[0;34m:\u001b[0m\u001b[0;34m\u001b[0m\u001b[0;34m\u001b[0m\u001b[0m\n",
            "\u001b[0;32m/usr/local/lib/python3.7/dist-packages/seaborn/categorical.py\u001b[0m in \u001b[0;36m__init__\u001b[0;34m(self, x, y, hue, data, order, hue_order, estimator, ci, n_boot, units, seed, orient, color, palette, saturation, errcolor, errwidth, capsize, dodge)\u001b[0m\n\u001b[1;32m   1583\u001b[0m         \u001b[0;34m\"\"\"Initialize the plotter.\"\"\"\u001b[0m\u001b[0;34m\u001b[0m\u001b[0;34m\u001b[0m\u001b[0m\n\u001b[1;32m   1584\u001b[0m         self.establish_variables(x, y, hue, data, orient,\n\u001b[0;32m-> 1585\u001b[0;31m                                  order, hue_order, units)\n\u001b[0m\u001b[1;32m   1586\u001b[0m         \u001b[0mself\u001b[0m\u001b[0;34m.\u001b[0m\u001b[0mestablish_colors\u001b[0m\u001b[0;34m(\u001b[0m\u001b[0mcolor\u001b[0m\u001b[0;34m,\u001b[0m \u001b[0mpalette\u001b[0m\u001b[0;34m,\u001b[0m \u001b[0msaturation\u001b[0m\u001b[0;34m)\u001b[0m\u001b[0;34m\u001b[0m\u001b[0;34m\u001b[0m\u001b[0m\n\u001b[1;32m   1587\u001b[0m         \u001b[0mself\u001b[0m\u001b[0;34m.\u001b[0m\u001b[0mestimate_statistic\u001b[0m\u001b[0;34m(\u001b[0m\u001b[0mestimator\u001b[0m\u001b[0;34m,\u001b[0m \u001b[0mci\u001b[0m\u001b[0;34m,\u001b[0m \u001b[0mn_boot\u001b[0m\u001b[0;34m,\u001b[0m \u001b[0mseed\u001b[0m\u001b[0;34m)\u001b[0m\u001b[0;34m\u001b[0m\u001b[0;34m\u001b[0m\u001b[0m\n",
            "\u001b[0;32m/usr/local/lib/python3.7/dist-packages/seaborn/categorical.py\u001b[0m in \u001b[0;36mestablish_variables\u001b[0;34m(self, x, y, hue, data, orient, order, hue_order, units)\u001b[0m\n\u001b[1;32m    151\u001b[0m                 \u001b[0;32mif\u001b[0m \u001b[0misinstance\u001b[0m\u001b[0;34m(\u001b[0m\u001b[0mvar\u001b[0m\u001b[0;34m,\u001b[0m \u001b[0mstr\u001b[0m\u001b[0;34m)\u001b[0m\u001b[0;34m:\u001b[0m\u001b[0;34m\u001b[0m\u001b[0;34m\u001b[0m\u001b[0m\n\u001b[1;32m    152\u001b[0m                     \u001b[0merr\u001b[0m \u001b[0;34m=\u001b[0m \u001b[0;34m\"Could not interpret input '{}'\"\u001b[0m\u001b[0;34m.\u001b[0m\u001b[0mformat\u001b[0m\u001b[0;34m(\u001b[0m\u001b[0mvar\u001b[0m\u001b[0;34m)\u001b[0m\u001b[0;34m\u001b[0m\u001b[0;34m\u001b[0m\u001b[0m\n\u001b[0;32m--> 153\u001b[0;31m                     \u001b[0;32mraise\u001b[0m \u001b[0mValueError\u001b[0m\u001b[0;34m(\u001b[0m\u001b[0merr\u001b[0m\u001b[0;34m)\u001b[0m\u001b[0;34m\u001b[0m\u001b[0;34m\u001b[0m\u001b[0m\n\u001b[0m\u001b[1;32m    154\u001b[0m \u001b[0;34m\u001b[0m\u001b[0m\n\u001b[1;32m    155\u001b[0m             \u001b[0;31m# Figure out the plotting orientation\u001b[0m\u001b[0;34m\u001b[0m\u001b[0;34m\u001b[0m\u001b[0;34m\u001b[0m\u001b[0m\n",
            "\u001b[0;31mValueError\u001b[0m: Could not interpret input 'Channel'"
          ]
        },
        {
          "output_type": "display_data",
          "data": {
            "image/png": "[encoded data removed]",
            "text/plain": [
              "<Figure size 1152x720 with 1 Axes>"
            ]
          },
          "metadata": {}
        }
      ]
    },
    {
      "cell_type": "code",
      "metadata": {
        "id": "5zX76koRu4O4"
      },
      "source": [
        "from xgboost import XGBClassifier\n",
        "from sklearn.ensemble import GradientBoostingClassifier\n",
        "from sklearn.metrics import classification_report, confusion_matrix, roc_curve, auc"
      ],
      "execution_count": null,
      "outputs": []
    },
    {
      "cell_type": "markdown",
      "metadata": {
        "id": "78ExiSbavUPq"
      },
      "source": [
        "**model_rf**"
      ]
    },
    {
      "cell_type": "code",
      "metadata": {
        "colab": {
          "base_uri": "https://localhost:8080/",
          "height": 238
        },
        "id": "P5KqZm1TubaG",
        "outputId": "17187994-c876-49f5-86c0-3030ff06fc68"
      },
      "source": [
        "y_scores_rf = y_valid_pred_rf\n",
        "fpr_rf, tpr_rf, _ = roc_curve(y_valid, y_scores_gb)\n",
        "roc_auc_rf = auc(fpr_rf, tpr_rf)\n",
        "\n",
        "print(\"Area under ROC curve = {:0.2f}\".format(roc_auc_rf))"
      ],
      "execution_count": null,
      "outputs": [
        {
          "output_type": "error",
          "ename": "NameError",
          "evalue": "ignored",
          "traceback": [
            "\u001b[0;31m---------------------------------------------------------------------------\u001b[0m",
            "\u001b[0;31mNameError\u001b[0m                                 Traceback (most recent call last)",
            "\u001b[0;32m<ipython-input-17-947896a6983a>\u001b[0m in \u001b[0;36m<module>\u001b[0;34m()\u001b[0m\n\u001b[1;32m      1\u001b[0m \u001b[0my_scores_rf\u001b[0m \u001b[0;34m=\u001b[0m \u001b[0my_valid_pred_rf\u001b[0m\u001b[0;34m\u001b[0m\u001b[0;34m\u001b[0m\u001b[0m\n\u001b[0;32m----> 2\u001b[0;31m \u001b[0mfpr_rf\u001b[0m\u001b[0;34m,\u001b[0m \u001b[0mtpr_rf\u001b[0m\u001b[0;34m,\u001b[0m \u001b[0m_\u001b[0m \u001b[0;34m=\u001b[0m \u001b[0mroc_curve\u001b[0m\u001b[0;34m(\u001b[0m\u001b[0my_valid\u001b[0m\u001b[0;34m,\u001b[0m \u001b[0my_scores_gb\u001b[0m\u001b[0;34m)\u001b[0m\u001b[0;34m\u001b[0m\u001b[0;34m\u001b[0m\u001b[0m\n\u001b[0m\u001b[1;32m      3\u001b[0m \u001b[0mroc_auc_rf\u001b[0m \u001b[0;34m=\u001b[0m \u001b[0mauc\u001b[0m\u001b[0;34m(\u001b[0m\u001b[0mfpr_rf\u001b[0m\u001b[0;34m,\u001b[0m \u001b[0mtpr_rf\u001b[0m\u001b[0;34m)\u001b[0m\u001b[0;34m\u001b[0m\u001b[0;34m\u001b[0m\u001b[0m\n\u001b[1;32m      4\u001b[0m \u001b[0;34m\u001b[0m\u001b[0m\n\u001b[1;32m      5\u001b[0m \u001b[0mprint\u001b[0m\u001b[0;34m(\u001b[0m\u001b[0;34m\"Area under ROC curve = {:0.2f}\"\u001b[0m\u001b[0;34m.\u001b[0m\u001b[0mformat\u001b[0m\u001b[0;34m(\u001b[0m\u001b[0mroc_auc_rf\u001b[0m\u001b[0;34m)\u001b[0m\u001b[0;34m)\u001b[0m\u001b[0;34m\u001b[0m\u001b[0;34m\u001b[0m\u001b[0m\n",
            "\u001b[0;31mNameError\u001b[0m: name 'y_scores_gb' is not defined"
          ]
        }
      ]
    },
    {
      "cell_type": "code",
      "metadata": {
        "colab": {
          "base_uri": "https://localhost:8080/",
          "height": 295
        },
        "id": "FoGoCe8U0GXx",
        "outputId": "7d3ab60a-fb7d-46fb-d8f6-7e63a1dda765"
      },
      "source": [
        "import sklearn.metrics as metrics\n",
        "roc_auc_rf = metrics.auc(fpr_rf, tpr_rf)\n",
        "%matplotlib inline\n",
        "import matplotlib.pyplot as plt\n",
        "plt.title('Receiver Operating Characteristic')\n",
        "plt.plot(fpr_rf, tpr_rf, 'b', label = 'AUC_rf = %0.2f' % roc_auc_rf)\n",
        "plt.legend(loc = 'lower right')\n",
        "plt.plot([0, 1], [0, 1],'r--')\n",
        "plt.xlim([0, 1])\n",
        "plt.ylim([0, 1])\n",
        "plt.ylabel('True Positive Rate')\n",
        "plt.xlabel('False Positive Rate')\n",
        "plt.show()"
      ],
      "execution_count": null,
      "outputs": [
        {
          "output_type": "display_data",
          "data": {
            "image/png": "[encoded data removed]",
            "text/plain": [
              "<Figure size 432x288 with 1 Axes>"
            ]
          },
          "metadata": {
            "needs_background": "light"
          }
        }
      ]
    },
    {
      "cell_type": "markdown",
      "metadata": {
        "id": "6PeXCBujy_Hf"
      },
      "source": [
        "**model_gbm**"
      ]
    },
    {
      "cell_type": "code",
      "metadata": {
        "colab": {
          "base_uri": "https://localhost:8080/",
          "height": 236
        },
        "id": "kWS4sW8zy0zs",
        "outputId": "1497a369-5a36-4c13-d9b8-f33dc2c546b9"
      },
      "source": [
        "y_scores_gbm = y_valid_pred_gbm\n",
        "fpr_gbm, tpr_gbm, _ = roc_curve(y_valid, y_scores_gb)\n",
        "roc_auc_gbm = auc(fpr_gbm, tpr_gbm)\n",
        "\n",
        "print(\"Area under ROC curve = {:0.2f}\".format(roc_auc_gbm))"
      ],
      "execution_count": null,
      "outputs": [
        {
          "output_type": "error",
          "ename": "NameError",
          "evalue": "ignored",
          "traceback": [
            "\u001b[0;31m---------------------------------------------------------------------------\u001b[0m",
            "\u001b[0;31mNameError\u001b[0m                                 Traceback (most recent call last)",
            "\u001b[0;32m<ipython-input-18-60f4e2982789>\u001b[0m in \u001b[0;36m<module>\u001b[0;34m()\u001b[0m\n\u001b[1;32m      1\u001b[0m \u001b[0my_scores_gbm\u001b[0m \u001b[0;34m=\u001b[0m \u001b[0my_valid_pred_gbm\u001b[0m\u001b[0;34m\u001b[0m\u001b[0;34m\u001b[0m\u001b[0m\n\u001b[0;32m----> 2\u001b[0;31m \u001b[0mfpr_gbm\u001b[0m\u001b[0;34m,\u001b[0m \u001b[0mtpr_gbm\u001b[0m\u001b[0;34m,\u001b[0m \u001b[0m_\u001b[0m \u001b[0;34m=\u001b[0m \u001b[0mroc_curve\u001b[0m\u001b[0;34m(\u001b[0m\u001b[0my_valid\u001b[0m\u001b[0;34m,\u001b[0m \u001b[0my_scores_gb\u001b[0m\u001b[0;34m)\u001b[0m\u001b[0;34m\u001b[0m\u001b[0;34m\u001b[0m\u001b[0m\n\u001b[0m\u001b[1;32m      3\u001b[0m \u001b[0mroc_auc_gbm\u001b[0m \u001b[0;34m=\u001b[0m \u001b[0mauc\u001b[0m\u001b[0;34m(\u001b[0m\u001b[0mfpr_gbm\u001b[0m\u001b[0;34m,\u001b[0m \u001b[0mtpr_gbm\u001b[0m\u001b[0;34m)\u001b[0m\u001b[0;34m\u001b[0m\u001b[0;34m\u001b[0m\u001b[0m\n\u001b[1;32m      4\u001b[0m \u001b[0;34m\u001b[0m\u001b[0m\n\u001b[1;32m      5\u001b[0m \u001b[0mprint\u001b[0m\u001b[0;34m(\u001b[0m\u001b[0;34m\"Area under ROC curve = {:0.2f}\"\u001b[0m\u001b[0;34m.\u001b[0m\u001b[0mformat\u001b[0m\u001b[0;34m(\u001b[0m\u001b[0mroc_auc_gbm\u001b[0m\u001b[0;34m)\u001b[0m\u001b[0;34m)\u001b[0m\u001b[0;34m\u001b[0m\u001b[0;34m\u001b[0m\u001b[0m\n",
            "\u001b[0;31mNameError\u001b[0m: name 'y_scores_gb' is not defined"
          ]
        }
      ]
    },
    {
      "cell_type": "code",
      "metadata": {
        "colab": {
          "base_uri": "https://localhost:8080/",
          "height": 295
        },
        "id": "Lz07mQ6AvMLA",
        "outputId": "0e8b3a3d-857b-49d0-e8e0-a8f13d01d6f7"
      },
      "source": [
        "import sklearn.metrics as metrics\n",
        "roc_auc_gbm = metrics.auc(fpr_gbm, tpr_gbm)\n",
        "%matplotlib inline\n",
        "import matplotlib.pyplot as plt\n",
        "plt.title('Receiver Operating Characteristic')\n",
        "plt.plot(fpr_rf, tpr_rf, 'b', label = 'AUC_gbm = %0.2f' % roc_auc_gbm )\n",
        "plt.legend(loc = 'lower right')\n",
        "plt.plot([0, 1], [0, 1],'r--')\n",
        "plt.xlim([0, 1])\n",
        "plt.ylim([0, 1])\n",
        "plt.ylabel('True Positive Rate')\n",
        "plt.xlabel('False Positive Rate')\n",
        "plt.show()"
      ],
      "execution_count": null,
      "outputs": [
        {
          "output_type": "display_data",
          "data": {
            "image/png": "[encoded data removed]",
            "text/plain": [
              "<Figure size 432x288 with 1 Axes>"
            ]
          },
          "metadata": {
            "needs_background": "light"
          }
        }
      ]
    },
    {
      "cell_type": "code",
      "metadata": {
        "id": "lWZKTH-ovQ9f"
      },
      "source": [
        "y_scores_gb = model_gbm.decision_function(X_valid)\n",
        "fpr_gb, tpr_gb, _ = roc_curve(y_valid, y_scores_gb)\n",
        "roc_auc_gb = auc(fpr_gb, tpr_gb)\n",
        "\n",
        "print(\"Area under ROC curve = {:0.2f}\".format(roc_auc_gb))"
      ],
      "execution_count": null,
      "outputs": []
    }
  ]
}